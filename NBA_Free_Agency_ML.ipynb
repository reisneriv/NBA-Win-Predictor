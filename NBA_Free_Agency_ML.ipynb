{
  "nbformat": 4,
  "nbformat_minor": 0,
  "metadata": {
    "colab": {
      "provenance": [],
      "authorship_tag": "ABX9TyOl4D4WPCXuKSmKihF0GOhQ",
      "include_colab_link": true
    },
    "kernelspec": {
      "name": "python3",
      "display_name": "Python 3"
    },
    "language_info": {
      "name": "python"
    }
  },
  "cells": [
    {
      "cell_type": "markdown",
      "metadata": {
        "id": "view-in-github",
        "colab_type": "text"
      },
      "source": [
        "<a href=\"https://colab.research.google.com/github/reisneriv/NBA-Win-Predictor/blob/main/NBA_Free_Agency_ML.ipynb\" target=\"_parent\"><img src=\"https://colab.research.google.com/assets/colab-badge.svg\" alt=\"Open In Colab\"/></a>"
      ]
    },
    {
      "cell_type": "code",
      "execution_count": null,
      "metadata": {
        "id": "JnpeR8hQmdBQ"
      },
      "outputs": [],
      "source": []
    },
    {
      "cell_type": "code",
      "execution_count": null,
      "metadata": {
        "id": "OREXRXgouA9l"
      },
      "outputs": [],
      "source": [
        "#from google.colab import files\n",
        "#uploaded = files.upload()"
      ]
    },
    {
      "cell_type": "code",
      "source": [
        "from lightgbm import LGBMRegressor\n",
        "from sklearn.ensemble import GradientBoostingRegressor\n",
        "from sklearn.linear_model import BayesianRidge, ElasticNet, LinearRegression, SGDRegressor, LogisticRegression\n",
        "from sklearn.model_selection import cross_val_score, train_test_split\n",
        "from sklearn.neural_network import MLPRegressor, MLPClassifier\n",
        "from sklearn.svm import SVR\n",
        "from sklearn.ensemble import RandomForestRegressor\n",
        "from sklearn import svm, preprocessing, datasets, linear_model\n",
        "from sklearn.metrics import mean_squared_error\n",
        "from sklearn.preprocessing import StandardScaler\n",
        "import matplotlib.pyplot as plt\n",
        "# Used for data storage and manipulation\n",
        "import numpy as np\n",
        "from sklearn import linear_model, datasets\n",
        "from sklearn.tree import DecisionTreeRegressor\n",
        "from sklearn.metrics import mean_squared_error, r2_score\n",
        "import sklearn.metrics as sm\n",
        "from sklearn.neighbors import KNeighborsRegressor\n",
        "from sklearn.model_selection import train_test_split\n",
        "from sklearn.datasets import make_classification"
      ],
      "metadata": {
        "id": "kVYBwXGQxTtO"
      },
      "execution_count": null,
      "outputs": []
    },
    {
      "cell_type": "code",
      "source": [
        "import seaborn as sns\n",
        "import matplotlib.pyplot as plt\n",
        "from seaborn import pairplot"
      ],
      "metadata": {
        "id": "Gautlzwv0TOU"
      },
      "execution_count": null,
      "outputs": []
    },
    {
      "cell_type": "code",
      "source": [
        "import io\n",
        "import os\n",
        "import pandas as pd\n",
        "import numpy as np\n",
        "import decimal\n",
        "\n",
        "pd.options.display.max_rows = 999\n",
        "\n",
        "#Reading in the training file I made\n",
        "df = pd.read_csv(\"/content/Train_Free_agents.csv\")\n",
        "train = df\n",
        "#Specifying the data points of interest that I'm running the models for\n",
        "train['% of Sal Cap'] = train['% of Sal Cap']*100\n",
        "x_train = train.drop([\"Value\",\"Yrs\",\"Avg. Salary\", \"% of Sal Cap\", \"Max Value\"], axis = 1)#,\"Yrs\", \"Avg. Salary\", \"% of Sal Cap\", \"Max Value\"\n",
        "y_train = train[\"% of Sal Cap\"]\n",
        "y_train=y_train.astype('int')\n",
        "z_train = train[\"Yrs\"]\n",
        "z_train=z_train.astype('int')\n",
        "w_train = train[\"Value\"]\n",
        "w_train=w_train.astype('int')\n",
        "#Reading in the testing data which is 2023 free agents\n",
        "test = pd.read_csv(\"/content/Test_Free_agents.csv\")\n",
        "test['% of Sal Cap'] = test['% of Sal Cap']*100\n",
        "x_test = test.drop([\"Value\",\"Player\",\"Yrs\",\"Avg. Salary\", \"% of Sal Cap\", \"Max Value\"], axis =1) #\"Yrs\",\"Avg. Salary\", \"% of Sal Cap\", \"Max Value\",\n",
        "y_test = test[\"% of Sal Cap\"]\n",
        "y_test=y_test.astype('int')\n",
        "z_test = test[\"Yrs\"]\n",
        "z_test=z_test.astype('int')\n",
        "w_test = test[\"Value\"]\n",
        "w_test=w_test.astype('int')\n",
        "train.head(180)\n",
        "#fitting the data sets to work within all of the models\n",
        "scaler = StandardScaler()\n",
        "x_train = scaler.fit_transform(x_train)\n",
        "x_test = scaler.transform(x_test)"
      ],
      "metadata": {
        "id": "8RPYOPlRuJyY"
      },
      "execution_count": null,
      "outputs": []
    },
    {
      "cell_type": "code",
      "source": [
        "corr = train.info()"
      ],
      "metadata": {
        "id": "Otbn07AjuNS8",
        "colab": {
          "base_uri": "https://localhost:8080/"
        },
        "outputId": "25447dbb-106d-41d2-c9a7-9a83d425c82f"
      },
      "execution_count": null,
      "outputs": [
        {
          "output_type": "stream",
          "name": "stdout",
          "text": [
            "<class 'pandas.core.frame.DataFrame'>\n",
            "RangeIndex: 882 entries, 0 to 881\n",
            "Data columns (total 53 columns):\n",
            " #   Column        Non-Null Count  Dtype  \n",
            "---  ------        --------------  -----  \n",
            " 0   Pos.          882 non-null    int64  \n",
            " 1   Age           882 non-null    float64\n",
            " 2   Type          882 non-null    int64  \n",
            " 3   Yrs           882 non-null    int64  \n",
            " 4   Value         882 non-null    int64  \n",
            " 5   Avg. Salary   882 non-null    float64\n",
            " 6   % of Sal Cap  882 non-null    float64\n",
            " 7   Max Value     882 non-null    int64  \n",
            " 8   G             882 non-null    int64  \n",
            " 9   GS            882 non-null    int64  \n",
            " 10  MP            882 non-null    float64\n",
            " 11  FG            882 non-null    float64\n",
            " 12  FGA           882 non-null    float64\n",
            " 13  FG%           882 non-null    float64\n",
            " 14  3P            882 non-null    float64\n",
            " 15  3PA           882 non-null    float64\n",
            " 16  3P%           882 non-null    float64\n",
            " 17  2P            882 non-null    float64\n",
            " 18  2PA           882 non-null    float64\n",
            " 19  2P%           882 non-null    float64\n",
            " 20  eFG%          882 non-null    float64\n",
            " 21  FT            882 non-null    float64\n",
            " 22  FTA           882 non-null    float64\n",
            " 23  FT%           882 non-null    float64\n",
            " 24  ORB           882 non-null    float64\n",
            " 25  DRB           882 non-null    float64\n",
            " 26  TRB           882 non-null    float64\n",
            " 27  AST           882 non-null    float64\n",
            " 28  STL           882 non-null    float64\n",
            " 29  BLK           882 non-null    float64\n",
            " 30  TOV           882 non-null    float64\n",
            " 31  PF            882 non-null    float64\n",
            " 32  PTS           882 non-null    float64\n",
            " 33  PER           882 non-null    float64\n",
            " 34  TS%           882 non-null    float64\n",
            " 35  3PAr          882 non-null    float64\n",
            " 36  FTr           882 non-null    float64\n",
            " 37  ORB%          882 non-null    float64\n",
            " 38  DRB%          882 non-null    float64\n",
            " 39  TRB%          882 non-null    float64\n",
            " 40  AST%          882 non-null    float64\n",
            " 41  STL%          882 non-null    float64\n",
            " 42  BLK%          882 non-null    float64\n",
            " 43  TOV%          882 non-null    float64\n",
            " 44  USG%          882 non-null    float64\n",
            " 45  OWS           882 non-null    float64\n",
            " 46  DWS           882 non-null    float64\n",
            " 47  WS            882 non-null    float64\n",
            " 48  WS/48         882 non-null    float64\n",
            " 49  OBPM          882 non-null    float64\n",
            " 50  DBPM          882 non-null    float64\n",
            " 51  BPM           882 non-null    float64\n",
            " 52  VORP          882 non-null    float64\n",
            "dtypes: float64(46), int64(7)\n",
            "memory usage: 365.3 KB\n"
          ]
        }
      ]
    },
    {
      "cell_type": "code",
      "source": [
        "#Finding significant correlation information for the salaries offered\n",
        "corr = train.corr()\n",
        "Wcorr = corr[\"% of Sal Cap\"]\n",
        "corr = train.corr()\n",
        "Ycorr = corr[\"Yrs\"]\n",
        "Zcorr = corr[\"Value\"]\n",
        "Xcorr = corr[\"Avg. Salary\"]\n",
        "\n",
        "print(Wcorr)\n",
        "print(Ycorr)\n",
        "print(Zcorr)\n",
        "print(Xcorr)\n",
        "ix = train.corr().sort_values(\"Value\", ascending=False).index\n",
        "print(ix)"
      ],
      "metadata": {
        "id": "sW7nklecuv-R",
        "colab": {
          "base_uri": "https://localhost:8080/"
        },
        "outputId": "55797add-d8f4-4efd-d591-ce78267badcd"
      },
      "execution_count": null,
      "outputs": [
        {
          "output_type": "stream",
          "name": "stdout",
          "text": [
            "Pos.            0.030032\n",
            "Age             0.018970\n",
            "Type           -0.087624\n",
            "Yrs             0.740775\n",
            "Value           0.937012\n",
            "Avg. Salary     0.988399\n",
            "% of Sal Cap    1.000000\n",
            "Max Value       0.936952\n",
            "G               0.404219\n",
            "GS              0.642373\n",
            "MP              0.639021\n",
            "FG              0.751138\n",
            "FGA             0.723248\n",
            "FG%             0.147165\n",
            "3P              0.500171\n",
            "3PA             0.473601\n",
            "3P%             0.165864\n",
            "2P              0.658279\n",
            "2PA             0.666338\n",
            "2P%             0.109883\n",
            "eFG%            0.168663\n",
            "FT              0.671190\n",
            "FTA             0.632244\n",
            "FT%             0.195554\n",
            "ORB             0.239710\n",
            "DRB             0.531321\n",
            "TRB             0.471131\n",
            "AST             0.526359\n",
            "STL             0.495466\n",
            "BLK             0.283104\n",
            "TOV             0.581220\n",
            "PF              0.358957\n",
            "PTS             0.761996\n",
            "PER             0.221148\n",
            "TS%             0.118650\n",
            "3PAr           -0.027357\n",
            "FTr             0.010497\n",
            "ORB%           -0.007808\n",
            "DRB%            0.083473\n",
            "TRB%            0.055683\n",
            "AST%            0.140021\n",
            "STL%            0.029022\n",
            "BLK%            0.001281\n",
            "TOV%           -0.028362\n",
            "USG%            0.214115\n",
            "OWS             0.429757\n",
            "DWS             0.391314\n",
            "WS              0.455810\n",
            "WS/48           0.152462\n",
            "OBPM            0.241666\n",
            "DBPM            0.064369\n",
            "BPM             0.215061\n",
            "VORP            0.469526\n",
            "Name: % of Sal Cap, dtype: float64\n",
            "Pos.            0.062680\n",
            "Age            -0.129635\n",
            "Type           -0.249814\n",
            "Yrs             1.000000\n",
            "Value           0.730332\n",
            "Avg. Salary     0.748054\n",
            "% of Sal Cap    0.740775\n",
            "Max Value       0.730534\n",
            "G               0.447225\n",
            "GS              0.516883\n",
            "MP              0.562984\n",
            "FG              0.592832\n",
            "FGA             0.550012\n",
            "FG%             0.220061\n",
            "3P              0.387970\n",
            "3PA             0.357348\n",
            "3P%             0.155068\n",
            "2P              0.522748\n",
            "2PA             0.508809\n",
            "2P%             0.191802\n",
            "eFG%            0.241947\n",
            "FT              0.466904\n",
            "FTA             0.455196\n",
            "FT%             0.144349\n",
            "ORB             0.298315\n",
            "DRB             0.473908\n",
            "TRB             0.447701\n",
            "AST             0.356677\n",
            "STL             0.426156\n",
            "BLK             0.283923\n",
            "TOV             0.421804\n",
            "PF              0.377852\n",
            "PTS             0.588001\n",
            "PER             0.171736\n",
            "TS%             0.135273\n",
            "3PAr           -0.061164\n",
            "FTr             0.016137\n",
            "ORB%            0.060779\n",
            "DRB%            0.113129\n",
            "TRB%            0.105550\n",
            "AST%            0.037199\n",
            "STL%            0.023413\n",
            "BLK%            0.059640\n",
            "TOV%           -0.015350\n",
            "USG%            0.092935\n",
            "OWS             0.310993\n",
            "DWS             0.308944\n",
            "WS              0.339849\n",
            "WS/48           0.136769\n",
            "OBPM            0.167553\n",
            "DBPM            0.093635\n",
            "BPM             0.167921\n",
            "VORP            0.300479\n",
            "Name: Yrs, dtype: float64\n",
            "Pos.            0.015720\n",
            "Age            -0.025716\n",
            "Type           -0.126899\n",
            "Yrs             0.730332\n",
            "Value           1.000000\n",
            "Avg. Salary     0.952088\n",
            "% of Sal Cap    0.937012\n",
            "Max Value       0.999990\n",
            "G               0.316899\n",
            "GS              0.574516\n",
            "MP              0.555714\n",
            "FG              0.685222\n",
            "FGA             0.661066\n",
            "FG%             0.119864\n",
            "3P              0.447369\n",
            "3PA             0.427487\n",
            "3P%             0.141080\n",
            "2P              0.604932\n",
            "2PA             0.613028\n",
            "2P%             0.085921\n",
            "eFG%            0.134425\n",
            "FT              0.618926\n",
            "FTA             0.578609\n",
            "FT%             0.167588\n",
            "ORB             0.199367\n",
            "DRB             0.454528\n",
            "TRB             0.401267\n",
            "AST             0.473070\n",
            "STL             0.422689\n",
            "BLK             0.250750\n",
            "TOV             0.527821\n",
            "PF              0.299148\n",
            "PTS             0.694920\n",
            "PER             0.205585\n",
            "TS%             0.107748\n",
            "3PAr           -0.027658\n",
            "FTr             0.007388\n",
            "ORB%           -0.005079\n",
            "DRB%            0.070752\n",
            "TRB%            0.047777\n",
            "AST%            0.144494\n",
            "STL%            0.025832\n",
            "BLK%            0.009708\n",
            "TOV%           -0.028662\n",
            "USG%            0.204120\n",
            "OWS             0.376797\n",
            "DWS             0.328642\n",
            "WS              0.394375\n",
            "WS/48           0.136858\n",
            "OBPM            0.220136\n",
            "DBPM            0.062014\n",
            "BPM             0.197097\n",
            "VORP            0.424918\n",
            "Name: Value, dtype: float64\n",
            "Pos.            0.025510\n",
            "Age             0.021919\n",
            "Type           -0.089592\n",
            "Yrs             0.748054\n",
            "Value           0.952088\n",
            "Avg. Salary     1.000000\n",
            "% of Sal Cap    0.988399\n",
            "Max Value       0.952133\n",
            "G               0.397833\n",
            "GS              0.638160\n",
            "MP              0.638312\n",
            "FG              0.750148\n",
            "FGA             0.721706\n",
            "FG%             0.149739\n",
            "3P              0.497016\n",
            "3PA             0.472824\n",
            "3P%             0.165243\n",
            "2P              0.658763\n",
            "2PA             0.664843\n",
            "2P%             0.113385\n",
            "eFG%            0.171300\n",
            "FT              0.671971\n",
            "FTA             0.631857\n",
            "FT%             0.194114\n",
            "ORB             0.242512\n",
            "DRB             0.528009\n",
            "TRB             0.469519\n",
            "AST             0.529527\n",
            "STL             0.486258\n",
            "BLK             0.274872\n",
            "TOV             0.583313\n",
            "PF              0.356134\n",
            "PTS             0.760938\n",
            "PER             0.218071\n",
            "TS%             0.121784\n",
            "3PAr           -0.024632\n",
            "FTr             0.008074\n",
            "ORB%           -0.005062\n",
            "DRB%            0.082951\n",
            "TRB%            0.056533\n",
            "AST%            0.138956\n",
            "STL%            0.023606\n",
            "BLK%            0.000226\n",
            "TOV%           -0.031339\n",
            "USG%            0.210915\n",
            "OWS             0.419300\n",
            "DWS             0.379620\n",
            "WS              0.444062\n",
            "WS/48           0.149397\n",
            "OBPM            0.238848\n",
            "DBPM            0.059952\n",
            "BPM             0.211174\n",
            "VORP            0.455744\n",
            "Name: Avg. Salary, dtype: float64\n",
            "Index(['Value', 'Max Value', 'Avg. Salary', '% of Sal Cap', 'Yrs', 'PTS', 'FG',\n",
            "       'FGA', 'FT', '2PA', '2P', 'FTA', 'GS', 'MP', 'TOV', 'AST', 'DRB', '3P',\n",
            "       '3PA', 'VORP', 'STL', 'TRB', 'WS', 'OWS', 'DWS', 'G', 'PF', 'BLK',\n",
            "       'OBPM', 'PER', 'USG%', 'ORB', 'BPM', 'FT%', 'AST%', '3P%', 'WS/48',\n",
            "       'eFG%', 'FG%', 'TS%', '2P%', 'DRB%', 'DBPM', 'TRB%', 'STL%', 'Pos.',\n",
            "       'BLK%', 'FTr', 'ORB%', 'Age', '3PAr', 'TOV%', 'Type'],\n",
            "      dtype='object')\n"
          ]
        }
      ]
    },
    {
      "cell_type": "code",
      "source": [
        "#sns.pairplot(df, x_vars=['FG','3P', '2P','TRB','TOV','PTS','DefFG', 'Def3P', 'DefTRB', 'DefTOV', 'DefPTS'], y_vars='W', height=7,aspect=0.7)\n",
        "#sns.pairplot(train, x_vars=['NRtg','ORtg', 'FG%', '3P%'], y_vars = 'W', height = 7, aspect = 0.7)\n",
        "#sns.regplot(x='NRtg', y= 'W', data = df)\n"
      ],
      "metadata": {
        "id": "Ue-XT5kiGpqP"
      },
      "execution_count": null,
      "outputs": []
    },
    {
      "cell_type": "code",
      "source": [
        "#sns.pairplot(train, x_vars=['2P%', 'Def2P%', 'Def3P%', 'DRtg', 'DefFG%'], y_vars = 'W', height = 7, aspect = 0.7)\n"
      ],
      "metadata": {
        "id": "14lq3DmKK5I5"
      },
      "execution_count": null,
      "outputs": []
    },
    {
      "cell_type": "code",
      "source": [
        "#g=sns.pairplot(train, x_vars=['NRtg', 'MOV', 'SRS', 'ORtg', 'TS%', 'FG%', 'OffeFG%', '3P%',\n",
        "#       '2P%', 'DRB', 'PTS', 'FG', 'TRB', 'BLK', 'AST', '3P', 'DefDRB%', 'FT%',\n",
        "#       '3PAr', 'OffFT/FGA', 'FT', '3PA', 'STL', 'OffORB%', 'DefPF', 'FTr',\n",
        "#       'FTA', '2P', 'Def2PA', 'DefFGA', 'DefTOV%', 'DefTOV', 'Def3PA', 'FGA',\n",
        "#       'Pace', 'DefORB', 'ORB', 'DefFT%', 'PF', 'Def3P', 'DefFTA', '2PA',\n",
        "#       'DefFT/FGA', 'DefFT', 'OffTOV%', 'TOV', 'Def2P', 'DefSTL', 'DefAST',\n",
        "#       'DefFG', 'DefPTS', 'DefTRB', 'DefDRB', 'SOS', 'Def2P%', 'DefBLK',\n",
        "#       'Def3P%', 'DefeFG%', 'DRtg', 'DefFG%', 'L', 'G'], y_vars = 'W', height = 7, aspect = 0.7, diag_kind =\"kde\")\n",
        "#g.map_lower(sns.kdeplot, levels = 4, color = \".2\")"
      ],
      "metadata": {
        "id": "ERmg5gErwO9O"
      },
      "execution_count": null,
      "outputs": []
    },
    {
      "cell_type": "code",
      "source": [
        "X, y =train[['Pos.', 'Age',\t'Type',\t'Yrs',\t'Value',\n",
        "             '% of Sal Cap',\t'Max Value',\t'G',\t'GS',\t'MP',\t'FG',\t'FGA',\n",
        "             'FG%',\t'3P',\t'3PA',\t'3P%',\t'2P',\t'2PA',\t'2P%',\t'eFG%',\t'FT',\n",
        "             'FTA',\t'FT%',\t'ORB',\t'DRB',\t'TRB',\t'AST',\t'STL',\t'BLK',\n",
        "             'TOV',\t'PF',\t'PTS',\t'PER',\t'TS%',\t'3PAr',\t'FTr',\t'ORB%',\n",
        "             'DRB%',\t'TRB%',\t'AST%',\t'STL%',\t'BLK%',\t'TOV%',\t'USG%',\t'OWS',\n",
        "             'DWS',\t'WS',\t'WS/48',\t'OBPM',\t'DBPM',\t'BPM',\t'VORP']], train[\"Avg. Salary\"]\n",
        "\n",
        "br = BayesianRidge()\n",
        "en = ElasticNet()\n",
        "gbr = GradientBoostingRegressor()\n",
        "lgbm = LGBMRegressor()\n",
        "lin = LinearRegression()\n",
        "mlp = MLPRegressor(max_iter=1000)\n",
        "sgd = SGDRegressor()\n",
        "#svr = SVR(kernel=\"linear\")\n",
        "\n",
        "br_scores = cross_val_score(br, X, y, cv=10)\n",
        "en_scores = cross_val_score(en, X, y, cv=10)\n",
        "gbr_scores = cross_val_score(gbr, X, y, cv=10)\n",
        "lgbm_scores = cross_val_score(lgbm, X, y, cv=10)\n",
        "lin_scores = cross_val_score(lin, X, y, cv=10)\n",
        "mlp_scores = cross_val_score(mlp, X, y, cv=10)\n",
        "sgd_scores = cross_val_score(sgd, X, y, cv=10)\n",
        "#svr_scores = cross_val_score(svr, X, y, cv=10)\n",
        "\n",
        "print(\"BaynesianRidge:           \", br_scores.mean(), br_scores.std())\n",
        "print(\"ElasticNet:               \", en_scores.mean(), en_scores.std())\n",
        "print(\"GradientBoostingRegressor:\", gbr_scores.mean(), gbr_scores.std())\n",
        "print(\"LGBMRegressor:            \", lgbm_scores.mean(), lgbm_scores.std())\n",
        "print(\"LinearRegression:         \", lin_scores.mean(), lin_scores.std())\n",
        "print(\"MLPRegressor:             \", mlp_scores.mean(), mlp_scores.std())\n",
        "print(\"SGDRegressor:             \", sgd_scores.mean(), sgd_scores.std())\n",
        "#print(\"SVR:                      \", svr_scores.mean(), svr_scores.std())"
      ],
      "metadata": {
        "colab": {
          "base_uri": "https://localhost:8080/"
        },
        "id": "OhDsVWOrDSeB",
        "outputId": "b7577d33-4bc1-4880-e488-a366844f8cef"
      },
      "execution_count": null,
      "outputs": [
        {
          "output_type": "stream",
          "name": "stderr",
          "text": [
            "/usr/local/lib/python3.10/dist-packages/sklearn/linear_model/_coordinate_descent.py:631: ConvergenceWarning: Objective did not converge. You might want to increase the number of iterations, check the scale of the features or consider increasing regularisation. Duality gap: 4.874e+14, tolerance: 4.347e+12\n",
            "  model = cd_fast.enet_coordinate_descent(\n",
            "/usr/local/lib/python3.10/dist-packages/sklearn/linear_model/_coordinate_descent.py:631: ConvergenceWarning: Objective did not converge. You might want to increase the number of iterations, check the scale of the features or consider increasing regularisation. Duality gap: 4.210e+14, tolerance: 4.023e+12\n",
            "  model = cd_fast.enet_coordinate_descent(\n",
            "/usr/local/lib/python3.10/dist-packages/sklearn/linear_model/_coordinate_descent.py:631: ConvergenceWarning: Objective did not converge. You might want to increase the number of iterations, check the scale of the features or consider increasing regularisation. Duality gap: 4.987e+14, tolerance: 4.189e+12\n",
            "  model = cd_fast.enet_coordinate_descent(\n",
            "/usr/local/lib/python3.10/dist-packages/sklearn/linear_model/_coordinate_descent.py:631: ConvergenceWarning: Objective did not converge. You might want to increase the number of iterations, check the scale of the features or consider increasing regularisation. Duality gap: 4.616e+14, tolerance: 3.762e+12\n",
            "  model = cd_fast.enet_coordinate_descent(\n",
            "/usr/local/lib/python3.10/dist-packages/sklearn/linear_model/_coordinate_descent.py:631: ConvergenceWarning: Objective did not converge. You might want to increase the number of iterations, check the scale of the features or consider increasing regularisation. Duality gap: 4.666e+14, tolerance: 3.843e+12\n",
            "  model = cd_fast.enet_coordinate_descent(\n",
            "/usr/local/lib/python3.10/dist-packages/sklearn/linear_model/_coordinate_descent.py:631: ConvergenceWarning: Objective did not converge. You might want to increase the number of iterations, check the scale of the features or consider increasing regularisation. Duality gap: 4.813e+14, tolerance: 3.995e+12\n",
            "  model = cd_fast.enet_coordinate_descent(\n",
            "/usr/local/lib/python3.10/dist-packages/sklearn/linear_model/_coordinate_descent.py:631: ConvergenceWarning: Objective did not converge. You might want to increase the number of iterations, check the scale of the features or consider increasing regularisation. Duality gap: 4.784e+14, tolerance: 4.445e+12\n",
            "  model = cd_fast.enet_coordinate_descent(\n",
            "/usr/local/lib/python3.10/dist-packages/sklearn/linear_model/_coordinate_descent.py:631: ConvergenceWarning: Objective did not converge. You might want to increase the number of iterations, check the scale of the features or consider increasing regularisation. Duality gap: 4.848e+14, tolerance: 4.412e+12\n",
            "  model = cd_fast.enet_coordinate_descent(\n",
            "/usr/local/lib/python3.10/dist-packages/sklearn/linear_model/_coordinate_descent.py:631: ConvergenceWarning: Objective did not converge. You might want to increase the number of iterations, check the scale of the features or consider increasing regularisation. Duality gap: 4.434e+14, tolerance: 3.992e+12\n",
            "  model = cd_fast.enet_coordinate_descent(\n",
            "/usr/local/lib/python3.10/dist-packages/sklearn/linear_model/_coordinate_descent.py:631: ConvergenceWarning: Objective did not converge. You might want to increase the number of iterations, check the scale of the features or consider increasing regularisation. Duality gap: 4.873e+14, tolerance: 4.345e+12\n",
            "  model = cd_fast.enet_coordinate_descent(\n"
          ]
        },
        {
          "output_type": "stream",
          "name": "stdout",
          "text": [
            "BaynesianRidge:            0.8903262486464676 0.040902449766603906\n",
            "ElasticNet:                0.9754662234552847 0.013759010484191599\n",
            "GradientBoostingRegressor: 0.9757695276962217 0.015761094939936934\n",
            "LGBMRegressor:             0.9736021613801071 0.00967283577706324\n",
            "LinearRegression:          0.9755723664846732 0.014164553120970735\n",
            "MLPRegressor:              0.8444103969591911 0.0594003712896284\n",
            "SGDRegressor:              -6.134462220464374e+34 1.378679009471968e+35\n"
          ]
        }
      ]
    },
    {
      "cell_type": "code",
      "source": [
        "scaler = StandardScaler()\n",
        "\n",
        "# Standardize the dataset.\n",
        "train_std = pd.DataFrame(scaler.fit_transform(train))\n",
        "train_std.columns = train.columns\n",
        "\n",
        "# Prepare the dataset for supervised learning.\n",
        "X_std, y_std =train_std[['Pos.', 'Age',\t'Type',\t'Yrs',\t'Avg. Salary',\n",
        "             '% of Sal Cap',\t'Max Value',\t'G',\t'GS',\t'MP',\t'FG',\t'FGA',\n",
        "             'FG%',\t'3P',\t'3PA',\t'3P%',\t'2P',\t'2PA',\t'2P%',\t'eFG%',\t'FT',\n",
        "             'FTA',\t'FT%',\t'ORB',\t'DRB',\t'TRB',\t'AST',\t'STL',\t'BLK',\n",
        "             'TOV',\t'PF',\t'PTS',\t'PER',\t'TS%',\t'3PAr',\t'FTr',\t'ORB%',\n",
        "             'DRB%',\t'TRB%',\t'AST%',\t'STL%',\t'BLK%',\t'TOV%',\t'USG%',\t'OWS',\n",
        "             'DWS',\t'WS',\t'WS/48',\t'OBPM',\t'DBPM',\t'BPM',\t'VORP']], train[\"Value\"]\n",
        "\n",
        "# Evaluate the models with cross validation.\n",
        "br_std_scores = cross_val_score(br, X_std, y_std, cv=10)\n",
        "en_std_scores = cross_val_score(en, X_std, y_std, cv=10)\n",
        "gbr_std_scores = cross_val_score(gbr, X_std, y_std, cv=10)\n",
        "lgbm_std_scores = cross_val_score(lgbm, X_std, y_std, cv=10)\n",
        "lin_std_scores = cross_val_score(lin, X_std, y_std, cv=10)\n",
        "mlp_std_scores = cross_val_score(mlp, X_std, y_std, cv=10)\n",
        "sgd_std_scores = cross_val_score(sgd, X_std, y_std, cv=10)\n",
        "#svr_std_scores = cross_val_score(svr, X_std, y_std, cv=10)\n",
        "\n",
        "print(\"BaynesianRidge:           \", br_scores.mean(), br_scores.std())\n",
        "print(\"ElasticNet:               \", en_scores.mean(), en_scores.std())\n",
        "print(\"GradientBoostingRegressor:\", gbr_scores.mean(), gbr_scores.std())\n",
        "print(\"LGBMRegressor:            \", lgbm_scores.mean(), lgbm_scores.std())\n",
        "print(\"LinearRegression:         \", lin_scores.mean(), lin_scores.std())\n",
        "print(\"MLPRegressor:             \", mlp_scores.mean(), mlp_scores.std())\n",
        "print(\"SGDRegressor:             \", sgd_scores.mean(), sgd_scores.std())\n",
        "#print(\"SVR:                      \", svr_scores.mean(), svr_scores.std())"
      ],
      "metadata": {
        "id": "Rvb6QV6fRC9b",
        "colab": {
          "base_uri": "https://localhost:8080/"
        },
        "outputId": "9249b4b4-e7e9-46a5-d1d4-ce740d26f331"
      },
      "execution_count": null,
      "outputs": [
        {
          "output_type": "stream",
          "name": "stderr",
          "text": [
            "/usr/local/lib/python3.10/dist-packages/sklearn/neural_network/_multilayer_perceptron.py:686: ConvergenceWarning: Stochastic Optimizer: Maximum iterations (1000) reached and the optimization hasn't converged yet.\n",
            "  warnings.warn(\n",
            "/usr/local/lib/python3.10/dist-packages/sklearn/neural_network/_multilayer_perceptron.py:686: ConvergenceWarning: Stochastic Optimizer: Maximum iterations (1000) reached and the optimization hasn't converged yet.\n",
            "  warnings.warn(\n",
            "/usr/local/lib/python3.10/dist-packages/sklearn/neural_network/_multilayer_perceptron.py:686: ConvergenceWarning: Stochastic Optimizer: Maximum iterations (1000) reached and the optimization hasn't converged yet.\n",
            "  warnings.warn(\n",
            "/usr/local/lib/python3.10/dist-packages/sklearn/neural_network/_multilayer_perceptron.py:686: ConvergenceWarning: Stochastic Optimizer: Maximum iterations (1000) reached and the optimization hasn't converged yet.\n",
            "  warnings.warn(\n",
            "/usr/local/lib/python3.10/dist-packages/sklearn/neural_network/_multilayer_perceptron.py:686: ConvergenceWarning: Stochastic Optimizer: Maximum iterations (1000) reached and the optimization hasn't converged yet.\n",
            "  warnings.warn(\n",
            "/usr/local/lib/python3.10/dist-packages/sklearn/neural_network/_multilayer_perceptron.py:686: ConvergenceWarning: Stochastic Optimizer: Maximum iterations (1000) reached and the optimization hasn't converged yet.\n",
            "  warnings.warn(\n",
            "/usr/local/lib/python3.10/dist-packages/sklearn/neural_network/_multilayer_perceptron.py:686: ConvergenceWarning: Stochastic Optimizer: Maximum iterations (1000) reached and the optimization hasn't converged yet.\n",
            "  warnings.warn(\n",
            "/usr/local/lib/python3.10/dist-packages/sklearn/neural_network/_multilayer_perceptron.py:686: ConvergenceWarning: Stochastic Optimizer: Maximum iterations (1000) reached and the optimization hasn't converged yet.\n",
            "  warnings.warn(\n",
            "/usr/local/lib/python3.10/dist-packages/sklearn/neural_network/_multilayer_perceptron.py:686: ConvergenceWarning: Stochastic Optimizer: Maximum iterations (1000) reached and the optimization hasn't converged yet.\n",
            "  warnings.warn(\n",
            "/usr/local/lib/python3.10/dist-packages/sklearn/neural_network/_multilayer_perceptron.py:686: ConvergenceWarning: Stochastic Optimizer: Maximum iterations (1000) reached and the optimization hasn't converged yet.\n",
            "  warnings.warn(\n"
          ]
        },
        {
          "output_type": "stream",
          "name": "stdout",
          "text": [
            "BaynesianRidge:            0.8903262486464676 0.040902449766603906\n",
            "ElasticNet:                0.9754662234552847 0.013759010484191599\n",
            "GradientBoostingRegressor: 0.9757695276962217 0.015761094939936934\n",
            "LGBMRegressor:             0.9736021613801071 0.00967283577706324\n",
            "LinearRegression:          0.9755723664846732 0.014164553120970735\n",
            "MLPRegressor:              0.8444103969591911 0.0594003712896284\n",
            "SGDRegressor:              -6.134462220464374e+34 1.378679009471968e+35\n"
          ]
        }
      ]
    },
    {
      "cell_type": "markdown",
      "source": [],
      "metadata": {
        "id": "9GTFtuJdwSUj"
      }
    },
    {
      "cell_type": "code",
      "source": [
        "print(train.shape)\n",
        "#Nancount = x_test.isna().sum().sum()\n",
        "print(x_train.shape)\n",
        "print(y_train.shape)\n",
        "print(x_test.shape)\n",
        "print(y_test.shape)"
      ],
      "metadata": {
        "colab": {
          "base_uri": "https://localhost:8080/"
        },
        "id": "VlsIjZ8FPlvl",
        "outputId": "369e73e0-8b92-4361-cbfe-da19448e1470"
      },
      "execution_count": null,
      "outputs": [
        {
          "output_type": "stream",
          "name": "stdout",
          "text": [
            "(882, 53)\n",
            "(882, 48)\n",
            "(882,)\n",
            "(197, 48)\n",
            "(197,)\n"
          ]
        }
      ]
    },
    {
      "cell_type": "code",
      "source": [
        "linereg = linear_model.LinearRegression()\n",
        "linereg.fit(x_train, y_train)\n",
        "Y_predict_linear_regression = linereg.predict(x_test)\n",
        "#Y_predict_linear_regression\n",
        "linereg.fit(x_train, z_train)\n",
        "Z_predict_linear_regression = linereg.predict(x_test)\n",
        "linereg.fit(x_train, w_train)\n",
        "W_predict_linear_regression = linereg.predict(x_test)\n",
        "\n",
        "\n",
        "\n",
        "order =[]\n",
        "for i in range(197):\n",
        "  #print(test['Player'][i], decimal.Decimal(Y_predict_linear_regression[i]))\n",
        "  #order.append([test['Player'][i], decimal.Decimal(Y_predict_linear_regression[i])])\n",
        "  order.append([test['Player'][i], Y_predict_linear_regression[i], Z_predict_linear_regression[i], W_predict_linear_regression[i]])\n",
        "\n",
        "\n",
        "df = pd.DataFrame(order)\n",
        "\n",
        "# Save the DataFrame to an Excel file\n",
        "df.to_excel('linReg_predict_Combined.xlsx', index=False)\n",
        "#df.to_csv"
      ],
      "metadata": {
        "id": "jQ6qK_TxFdm9"
      },
      "execution_count": null,
      "outputs": []
    },
    {
      "cell_type": "code",
      "source": [
        "print(\"Mean absolute error =\", round(sm.mean_absolute_error(y_test, Y_predict_linear_regression), 2))\n",
        "print(\"R2 score =\", round(sm.r2_score(y_test, Y_predict_linear_regression), 2))\n"
      ],
      "metadata": {
        "id": "UabHUndQGNw4",
        "colab": {
          "base_uri": "https://localhost:8080/"
        },
        "outputId": "8a140368-6cc8-4750-9640-26d3dc1884a2"
      },
      "execution_count": null,
      "outputs": [
        {
          "output_type": "stream",
          "name": "stdout",
          "text": [
            "Mean absolute error = 4.74\n",
            "R2 score = 0.0\n"
          ]
        }
      ]
    },
    {
      "cell_type": "code",
      "source": [
        "DT_model = DecisionTreeRegressor(max_depth=None).fit(x_train,y_train)\n",
        "DT_predict = DT_model.predict(x_test) #Predictions on Testing data\n",
        "#DT_predict = DT_predict.round() for years\n",
        "DT_predict = DT_predict\n",
        "#print(DT_predict)"
      ],
      "metadata": {
        "id": "U-RApEzTjX19"
      },
      "execution_count": null,
      "outputs": []
    },
    {
      "cell_type": "code",
      "source": [
        "order =[]\n",
        "for i in range(197):\n",
        "  #print(test['Player'][i], DT_predict[i])\n",
        "  order.append([test['Player'][i], DT_predict[i]])\n",
        "\n",
        "df = pd.DataFrame(order)\n",
        "\n",
        "# Save the DataFrame to an Excel file\n",
        "df.to_excel('decision_tree_predict_%ofCap.xlsx', index=False)\n",
        "#df.to_csv"
      ],
      "metadata": {
        "id": "bL-iqJD7kSw1"
      },
      "execution_count": null,
      "outputs": []
    },
    {
      "cell_type": "code",
      "source": [
        "KNN_model = KNeighborsRegressor(n_neighbors=5).fit(x_train,y_train)\n",
        "KNN_predict = KNN_model.predict(x_test) #Predictions on Testing data\n",
        "#KNN_predict = KNN_predict.round() for years\n",
        "KNN_predict = KNN_predict\n",
        "#print(KNN_predict)"
      ],
      "metadata": {
        "id": "TtcT-60-ktXj"
      },
      "execution_count": null,
      "outputs": []
    },
    {
      "cell_type": "code",
      "source": [
        "order =[]\n",
        "for i in range(197):\n",
        "  #print(test['Player'][i], KNN_predict[i])\n",
        "  order.append([test['Player'][i], KNN_predict[i]])\n",
        "df = pd.DataFrame(order)\n",
        "df.to_excel('KNN_predict_%ofCap.xlsx', index=False)\n"
      ],
      "metadata": {
        "id": "LemnHoY2k7mL"
      },
      "execution_count": null,
      "outputs": []
    }
  ]
}